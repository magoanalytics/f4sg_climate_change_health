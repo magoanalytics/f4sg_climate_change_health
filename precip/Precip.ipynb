{
 "cells": [
  {
   "cell_type": "code",
   "execution_count": 5,
   "metadata": {
    "ExecuteTime": {
     "end_time": "2020-10-17T14:07:29.343556Z",
     "start_time": "2020-10-17T14:07:29.341168Z"
    }
   },
   "outputs": [],
   "source": [
    "from bs4 import BeautifulSoup\n",
    "import requests\n",
    "import selenium\n",
    "import random\n",
    "from time import sleep\n",
    "import pandas as pd"
   ]
  },
  {
   "cell_type": "code",
   "execution_count": 6,
   "metadata": {
    "ExecuteTime": {
     "end_time": "2020-10-17T14:08:40.067315Z",
     "start_time": "2020-10-17T14:08:40.064084Z"
    }
   },
   "outputs": [],
   "source": [
    "# logging is important\n",
    "logger = logging.getLogger()\n",
    "dstamp = datetime.now().strftime('%m_%d')\n",
    "fhandler = logging.FileHandler(filename= dstamp + 'session.log', mode='a')\n",
    "formatter = logging.Formatter('%(asctime)s - %(name)s - %(levelname)s - %(message)s')\n",
    "fhandler.setFormatter(formatter)\n",
    "logger.addHandler(fhandler)\n",
    "logger.setLevel(logging.DEBUG)\n"
   ]
  },
  {
   "cell_type": "markdown",
   "metadata": {},
   "source": [
    "# Constants"
   ]
  },
  {
   "cell_type": "code",
   "execution_count": 9,
   "metadata": {
    "ExecuteTime": {
     "end_time": "2020-10-17T14:08:46.082191Z",
     "start_time": "2020-10-17T14:08:46.080007Z"
    }
   },
   "outputs": [],
   "source": [
    "headers = {'User-Agent': 'Mozilla/5.0 (X11; Linux x86_64; rv:73.0) Gecko/20100101 Firefox/73.0'} "
   ]
  },
  {
   "cell_type": "code",
   "execution_count": 10,
   "metadata": {
    "ExecuteTime": {
     "end_time": "2020-10-17T14:08:46.139260Z",
     "start_time": "2020-10-17T14:08:46.101138Z"
    }
   },
   "outputs": [],
   "source": [
    "baseurl =  'https://data.gov.ph/sites/default/files/'"
   ]
  },
  {
   "cell_type": "code",
   "execution_count": 14,
   "metadata": {
    "ExecuteTime": {
     "end_time": "2020-10-17T14:13:59.779523Z",
     "start_time": "2020-10-17T14:13:59.776928Z"
    }
   },
   "outputs": [],
   "source": [
    "def urlToBs(url, headers):\n",
    "    sleep(random.uniform(0,0.5))\n",
    "    pg = requests.get(url, headers)\n",
    "    sleep(1)\n",
    "    bs = BeautifulSoup(pg.content, 'html.parser')\n",
    "    return bs"
   ]
  },
  {
   "cell_type": "code",
   "execution_count": 31,
   "metadata": {
    "ExecuteTime": {
     "end_time": "2020-10-17T14:16:21.441260Z",
     "start_time": "2020-10-17T14:16:21.438943Z"
    }
   },
   "outputs": [],
   "source": [
    "def sp_to_lturl(bsPage):\n",
    "    return [a['href'] for a in bsPage.find_all(\"a\", {'class':\"btn btn-primary data-link\"})] "
   ]
  },
  {
   "cell_type": "code",
   "execution_count": 32,
   "metadata": {
    "ExecuteTime": {
     "end_time": "2020-10-17T14:16:21.480136Z",
     "start_time": "2020-10-17T14:16:21.477379Z"
    }
   },
   "outputs": [],
   "source": [
    "purl =  'https://data.gov.ph/?q=dataset/climatological-normal-values'"
   ]
  },
  {
   "cell_type": "code",
   "execution_count": 21,
   "metadata": {
    "ExecuteTime": {
     "end_time": "2020-10-17T14:14:46.236420Z",
     "start_time": "2020-10-17T14:14:43.908250Z"
    }
   },
   "outputs": [],
   "source": [
    "bsPage = urlToBs(purl, headers)"
   ]
  },
  {
   "cell_type": "code",
   "execution_count": 33,
   "metadata": {
    "ExecuteTime": {
     "end_time": "2020-10-17T14:16:27.461787Z",
     "start_time": "2020-10-17T14:16:27.454761Z"
    }
   },
   "outputs": [],
   "source": [
    "hturllt = sp_to_lturl(bsPage) "
   ]
  },
  {
   "cell_type": "raw",
   "metadata": {
    "ExecuteTime": {
     "end_time": "2020-10-17T14:19:44.674523Z",
     "start_time": "2020-10-17T14:19:44.507516Z"
    }
   },
   "source": [
    "!mkdir precipCSV"
   ]
  },
  {
   "cell_type": "code",
   "execution_count": 45,
   "metadata": {
    "ExecuteTime": {
     "end_time": "2020-10-17T14:23:45.574677Z",
     "start_time": "2020-10-17T14:23:45.571684Z"
    }
   },
   "outputs": [],
   "source": [
    "def fileOut(content, fname):\n",
    "    fout = open(fname, 'wb')\n",
    "    fout.write(content)\n",
    "    fout.close()"
   ]
  },
  {
   "cell_type": "code",
   "execution_count": 47,
   "metadata": {
    "ExecuteTime": {
     "end_time": "2020-10-17T14:23:48.792953Z",
     "start_time": "2020-10-17T14:23:48.477221Z"
    }
   },
   "outputs": [],
   "source": [
    "r = requests.get(hturllt[0], allow_redirects=True)"
   ]
  },
  {
   "cell_type": "code",
   "execution_count": 52,
   "metadata": {
    "ExecuteTime": {
     "end_time": "2020-10-17T14:25:22.092257Z",
     "start_time": "2020-10-17T14:25:22.089408Z"
    }
   },
   "outputs": [
    {
     "data": {
      "text/plain": [
       "'pagasanormvalalabatquez1999-2010.csv'"
      ]
     },
     "execution_count": 52,
     "metadata": {},
     "output_type": "execute_result"
    }
   ],
   "source": [
    "hturllt[0].split('/')[-1]"
   ]
  },
  {
   "cell_type": "code",
   "execution_count": 55,
   "metadata": {
    "ExecuteTime": {
     "end_time": "2020-10-17T14:26:43.835045Z",
     "start_time": "2020-10-17T14:26:25.025940Z"
    }
   },
   "outputs": [],
   "source": [
    "for url in hturllt:\n",
    "    r = requests.get(url, allow_redirects=True)\n",
    "    fileOut(r.content, './precipCSV/' + url.split('/')[-1])"
   ]
  },
  {
   "cell_type": "code",
   "execution_count": 79,
   "metadata": {
    "ExecuteTime": {
     "end_time": "2020-10-17T14:33:23.337401Z",
     "start_time": "2020-10-17T14:33:23.334036Z"
    }
   },
   "outputs": [],
   "source": [
    "def readAllCsv(lt, fp):\n",
    "    dtdfImported = {}\n",
    "    for fname in lt:\n",
    "        logging.info(fname)\n",
    "        dtdfImported[fname] = pd.read_csv(fp + fname)\n",
    "        locstr = fname.split('.')[0][13:] \n",
    "        dtdfImported[fname]['location'] = locstr\n",
    "    return dtdfImported"
   ]
  },
  {
   "cell_type": "code",
   "execution_count": 65,
   "metadata": {
    "ExecuteTime": {
     "end_time": "2020-10-17T14:30:14.018126Z",
     "start_time": "2020-10-17T14:30:14.015965Z"
    }
   },
   "outputs": [],
   "source": [
    "ltfname = [url.split('/')[-1] for url in hturllt]"
   ]
  },
  {
   "cell_type": "code",
   "execution_count": 86,
   "metadata": {
    "ExecuteTime": {
     "end_time": "2020-10-17T14:34:33.207281Z",
     "start_time": "2020-10-17T14:34:33.064597Z"
    }
   },
   "outputs": [],
   "source": [
    "dtdfImported =  readAllCsv(ltfname, './precipCSV/')"
   ]
  },
  {
   "cell_type": "code",
   "execution_count": 87,
   "metadata": {
    "ExecuteTime": {
     "end_time": "2020-10-17T14:34:33.211781Z",
     "start_time": "2020-10-17T14:34:33.208617Z"
    },
    "collapsed": true
   },
   "outputs": [
    {
     "data": {
      "text/plain": [
       "13"
      ]
     },
     "execution_count": 87,
     "metadata": {},
     "output_type": "execute_result"
    }
   ],
   "source": [
    "len('pagasanormval')"
   ]
  },
  {
   "cell_type": "code",
   "execution_count": 89,
   "metadata": {
    "ExecuteTime": {
     "end_time": "2020-10-17T14:34:51.931558Z",
     "start_time": "2020-10-17T14:34:51.929452Z"
    }
   },
   "outputs": [],
   "source": [
    "ltdfImported = [df for df in  dtdfImported.values()]"
   ]
  },
  {
   "cell_type": "code",
   "execution_count": 90,
   "metadata": {
    "ExecuteTime": {
     "end_time": "2020-10-17T14:35:02.824218Z",
     "start_time": "2020-10-17T14:35:02.745362Z"
    }
   },
   "outputs": [],
   "source": [
    "dfFinal = pd.concat(ltdfImported)"
   ]
  },
  {
   "cell_type": "code",
   "execution_count": 93,
   "metadata": {
    "ExecuteTime": {
     "end_time": "2020-10-17T14:35:50.256186Z",
     "start_time": "2020-10-17T14:35:50.252611Z"
    }
   },
   "outputs": [
    {
     "data": {
      "text/plain": [
       "(715, 23)"
      ]
     },
     "execution_count": 93,
     "metadata": {},
     "output_type": "execute_result"
    }
   ],
   "source": [
    "dfFinal.shape"
   ]
  },
  {
   "cell_type": "code",
   "execution_count": 98,
   "metadata": {
    "ExecuteTime": {
     "end_time": "2020-10-17T14:47:46.841789Z",
     "start_time": "2020-10-17T14:47:46.812252Z"
    }
   },
   "outputs": [
    {
     "data": {
      "text/html": [
       "<div>\n",
       "<style scoped>\n",
       "    .dataframe tbody tr th:only-of-type {\n",
       "        vertical-align: middle;\n",
       "    }\n",
       "\n",
       "    .dataframe tbody tr th {\n",
       "        vertical-align: top;\n",
       "    }\n",
       "\n",
       "    .dataframe thead th {\n",
       "        text-align: right;\n",
       "    }\n",
       "</style>\n",
       "<table border=\"1\" class=\"dataframe\">\n",
       "  <thead>\n",
       "    <tr style=\"text-align: right;\">\n",
       "      <th></th>\n",
       "      <th>month</th>\n",
       "      <th>rainfall_amount</th>\n",
       "      <th>rainfall_number_of_rd</th>\n",
       "      <th>temp_max</th>\n",
       "      <th>temp_min</th>\n",
       "      <th>temp_mean</th>\n",
       "      <th>temp_dry_bulb</th>\n",
       "      <th>temp_wet_bulb</th>\n",
       "      <th>temp_dew_pt</th>\n",
       "      <th>vapor_pressure_mbs</th>\n",
       "      <th>...</th>\n",
       "      <th>wind_spd_mps</th>\n",
       "      <th>cloud_amount_okta</th>\n",
       "      <th>number_of_days_with_tstm</th>\n",
       "      <th>number_of_days_with_ltng</th>\n",
       "      <th>location</th>\n",
       "      <th>rel_hum</th>\n",
       "      <th>mslp</th>\n",
       "      <th>vapor_pressure</th>\n",
       "      <th></th>\n",
       "      <th>wind_spd</th>\n",
       "    </tr>\n",
       "  </thead>\n",
       "  <tbody>\n",
       "    <tr>\n",
       "      <th>0</th>\n",
       "      <td>January</td>\n",
       "      <td>250.2</td>\n",
       "      <td>21</td>\n",
       "      <td>28.3</td>\n",
       "      <td>21.9</td>\n",
       "      <td>25.1</td>\n",
       "      <td>25.5</td>\n",
       "      <td>23.6</td>\n",
       "      <td>22.9</td>\n",
       "      <td>27.8</td>\n",
       "      <td>...</td>\n",
       "      <td>4.0</td>\n",
       "      <td>7</td>\n",
       "      <td>0</td>\n",
       "      <td>0</td>\n",
       "      <td>alabatquez1999-2010</td>\n",
       "      <td>NaN</td>\n",
       "      <td>NaN</td>\n",
       "      <td>NaN</td>\n",
       "      <td>NaN</td>\n",
       "      <td>NaN</td>\n",
       "    </tr>\n",
       "    <tr>\n",
       "      <th>1</th>\n",
       "      <td>February</td>\n",
       "      <td>151.8</td>\n",
       "      <td>14</td>\n",
       "      <td>28.9</td>\n",
       "      <td>21.9</td>\n",
       "      <td>25.4</td>\n",
       "      <td>25.8</td>\n",
       "      <td>23.8</td>\n",
       "      <td>23.0</td>\n",
       "      <td>28.1</td>\n",
       "      <td>...</td>\n",
       "      <td>3.0</td>\n",
       "      <td>6</td>\n",
       "      <td>0</td>\n",
       "      <td>0</td>\n",
       "      <td>alabatquez1999-2010</td>\n",
       "      <td>NaN</td>\n",
       "      <td>NaN</td>\n",
       "      <td>NaN</td>\n",
       "      <td>NaN</td>\n",
       "      <td>NaN</td>\n",
       "    </tr>\n",
       "    <tr>\n",
       "      <th>2</th>\n",
       "      <td>March</td>\n",
       "      <td>127.4</td>\n",
       "      <td>11</td>\n",
       "      <td>30.2</td>\n",
       "      <td>22.6</td>\n",
       "      <td>26.4</td>\n",
       "      <td>26.7</td>\n",
       "      <td>24.5</td>\n",
       "      <td>23.7</td>\n",
       "      <td>29.2</td>\n",
       "      <td>...</td>\n",
       "      <td>3.0</td>\n",
       "      <td>5</td>\n",
       "      <td>2</td>\n",
       "      <td>1</td>\n",
       "      <td>alabatquez1999-2010</td>\n",
       "      <td>NaN</td>\n",
       "      <td>NaN</td>\n",
       "      <td>NaN</td>\n",
       "      <td>NaN</td>\n",
       "      <td>NaN</td>\n",
       "    </tr>\n",
       "    <tr>\n",
       "      <th>3</th>\n",
       "      <td>April</td>\n",
       "      <td>91.9</td>\n",
       "      <td>9</td>\n",
       "      <td>31.8</td>\n",
       "      <td>23.4</td>\n",
       "      <td>27.6</td>\n",
       "      <td>28.0</td>\n",
       "      <td>25.4</td>\n",
       "      <td>24.5</td>\n",
       "      <td>30.6</td>\n",
       "      <td>...</td>\n",
       "      <td>2.0</td>\n",
       "      <td>5</td>\n",
       "      <td>5</td>\n",
       "      <td>3</td>\n",
       "      <td>alabatquez1999-2010</td>\n",
       "      <td>NaN</td>\n",
       "      <td>NaN</td>\n",
       "      <td>NaN</td>\n",
       "      <td>NaN</td>\n",
       "      <td>NaN</td>\n",
       "    </tr>\n",
       "    <tr>\n",
       "      <th>4</th>\n",
       "      <td>May</td>\n",
       "      <td>114.1</td>\n",
       "      <td>11</td>\n",
       "      <td>32.8</td>\n",
       "      <td>23.8</td>\n",
       "      <td>28.3</td>\n",
       "      <td>28.7</td>\n",
       "      <td>26.0</td>\n",
       "      <td>25.1</td>\n",
       "      <td>31.7</td>\n",
       "      <td>...</td>\n",
       "      <td>2.0</td>\n",
       "      <td>6</td>\n",
       "      <td>14</td>\n",
       "      <td>12</td>\n",
       "      <td>alabatquez1999-2010</td>\n",
       "      <td>NaN</td>\n",
       "      <td>NaN</td>\n",
       "      <td>NaN</td>\n",
       "      <td>NaN</td>\n",
       "      <td>NaN</td>\n",
       "    </tr>\n",
       "    <tr>\n",
       "      <th>...</th>\n",
       "      <td>...</td>\n",
       "      <td>...</td>\n",
       "      <td>...</td>\n",
       "      <td>...</td>\n",
       "      <td>...</td>\n",
       "      <td>...</td>\n",
       "      <td>...</td>\n",
       "      <td>...</td>\n",
       "      <td>...</td>\n",
       "      <td>...</td>\n",
       "      <td>...</td>\n",
       "      <td>...</td>\n",
       "      <td>...</td>\n",
       "      <td>...</td>\n",
       "      <td>...</td>\n",
       "      <td>...</td>\n",
       "      <td>...</td>\n",
       "      <td>...</td>\n",
       "      <td>...</td>\n",
       "      <td>...</td>\n",
       "      <td>...</td>\n",
       "    </tr>\n",
       "    <tr>\n",
       "      <th>8</th>\n",
       "      <td>September</td>\n",
       "      <td>482.8</td>\n",
       "      <td>21</td>\n",
       "      <td>26.2</td>\n",
       "      <td>20.4</td>\n",
       "      <td>23.3</td>\n",
       "      <td>23.0</td>\n",
       "      <td>22.1</td>\n",
       "      <td>21.8</td>\n",
       "      <td>26.1</td>\n",
       "      <td>...</td>\n",
       "      <td>3.0</td>\n",
       "      <td>7</td>\n",
       "      <td>14</td>\n",
       "      <td>13</td>\n",
       "      <td>anayrizal1999-2012</td>\n",
       "      <td>NaN</td>\n",
       "      <td>NaN</td>\n",
       "      <td>NaN</td>\n",
       "      <td>NaN</td>\n",
       "      <td>NaN</td>\n",
       "    </tr>\n",
       "    <tr>\n",
       "      <th>9</th>\n",
       "      <td>October</td>\n",
       "      <td>276.5</td>\n",
       "      <td>18</td>\n",
       "      <td>26.2</td>\n",
       "      <td>20.4</td>\n",
       "      <td>23.3</td>\n",
       "      <td>22.9</td>\n",
       "      <td>21.8</td>\n",
       "      <td>21.4</td>\n",
       "      <td>25.4</td>\n",
       "      <td>...</td>\n",
       "      <td>3.0</td>\n",
       "      <td>6</td>\n",
       "      <td>10</td>\n",
       "      <td>13</td>\n",
       "      <td>anayrizal1999-2012</td>\n",
       "      <td>NaN</td>\n",
       "      <td>NaN</td>\n",
       "      <td>NaN</td>\n",
       "      <td>NaN</td>\n",
       "      <td>NaN</td>\n",
       "    </tr>\n",
       "    <tr>\n",
       "      <th>10</th>\n",
       "      <td>November</td>\n",
       "      <td>264.8</td>\n",
       "      <td>18</td>\n",
       "      <td>25.6</td>\n",
       "      <td>19.9</td>\n",
       "      <td>22.8</td>\n",
       "      <td>22.4</td>\n",
       "      <td>21.3</td>\n",
       "      <td>20.8</td>\n",
       "      <td>24.7</td>\n",
       "      <td>...</td>\n",
       "      <td>3.0</td>\n",
       "      <td>6</td>\n",
       "      <td>5</td>\n",
       "      <td>7</td>\n",
       "      <td>anayrizal1999-2012</td>\n",
       "      <td>NaN</td>\n",
       "      <td>NaN</td>\n",
       "      <td>NaN</td>\n",
       "      <td>NaN</td>\n",
       "      <td>NaN</td>\n",
       "    </tr>\n",
       "    <tr>\n",
       "      <th>11</th>\n",
       "      <td>December</td>\n",
       "      <td>202.3</td>\n",
       "      <td>16</td>\n",
       "      <td>24.3</td>\n",
       "      <td>19.1</td>\n",
       "      <td>21.7</td>\n",
       "      <td>21.5</td>\n",
       "      <td>20.4</td>\n",
       "      <td>19.9</td>\n",
       "      <td>23.3</td>\n",
       "      <td>...</td>\n",
       "      <td>4.0</td>\n",
       "      <td>6</td>\n",
       "      <td>1</td>\n",
       "      <td>1</td>\n",
       "      <td>anayrizal1999-2012</td>\n",
       "      <td>NaN</td>\n",
       "      <td>NaN</td>\n",
       "      <td>NaN</td>\n",
       "      <td>NaN</td>\n",
       "      <td>NaN</td>\n",
       "    </tr>\n",
       "    <tr>\n",
       "      <th>12</th>\n",
       "      <td>Annual</td>\n",
       "      <td>2931.9</td>\n",
       "      <td>183</td>\n",
       "      <td>26.2</td>\n",
       "      <td>20.0</td>\n",
       "      <td>23.1</td>\n",
       "      <td>22.7</td>\n",
       "      <td>21.4</td>\n",
       "      <td>20.9</td>\n",
       "      <td>24.9</td>\n",
       "      <td>...</td>\n",
       "      <td>3.0</td>\n",
       "      <td>6</td>\n",
       "      <td>98</td>\n",
       "      <td>98</td>\n",
       "      <td>anayrizal1999-2012</td>\n",
       "      <td>NaN</td>\n",
       "      <td>NaN</td>\n",
       "      <td>NaN</td>\n",
       "      <td>NaN</td>\n",
       "      <td>NaN</td>\n",
       "    </tr>\n",
       "  </tbody>\n",
       "</table>\n",
       "<p>715 rows × 23 columns</p>\n",
       "</div>"
      ],
      "text/plain": [
       "        month  rainfall_amount  rainfall_number_of_rd  temp_max  temp_min  \\\n",
       "0     January            250.2                     21      28.3      21.9   \n",
       "1    February            151.8                     14      28.9      21.9   \n",
       "2       March            127.4                     11      30.2      22.6   \n",
       "3       April             91.9                      9      31.8      23.4   \n",
       "4         May            114.1                     11      32.8      23.8   \n",
       "..        ...              ...                    ...       ...       ...   \n",
       "8   September            482.8                     21      26.2      20.4   \n",
       "9     October            276.5                     18      26.2      20.4   \n",
       "10   November            264.8                     18      25.6      19.9   \n",
       "11   December            202.3                     16      24.3      19.1   \n",
       "12     Annual           2931.9                    183      26.2      20.0   \n",
       "\n",
       "    temp_mean  temp_dry_bulb  temp_wet_bulb  temp_dew_pt  vapor_pressure_mbs  \\\n",
       "0        25.1           25.5           23.6         22.9                27.8   \n",
       "1        25.4           25.8           23.8         23.0                28.1   \n",
       "2        26.4           26.7           24.5         23.7                29.2   \n",
       "3        27.6           28.0           25.4         24.5                30.6   \n",
       "4        28.3           28.7           26.0         25.1                31.7   \n",
       "..        ...            ...            ...          ...                 ...   \n",
       "8        23.3           23.0           22.1         21.8                26.1   \n",
       "9        23.3           22.9           21.8         21.4                25.4   \n",
       "10       22.8           22.4           21.3         20.8                24.7   \n",
       "11       21.7           21.5           20.4         19.9                23.3   \n",
       "12       23.1           22.7           21.4         20.9                24.9   \n",
       "\n",
       "    ...  wind_spd_mps  cloud_amount_okta number_of_days_with_tstm  \\\n",
       "0   ...           4.0                  7                        0   \n",
       "1   ...           3.0                  6                        0   \n",
       "2   ...           3.0                  5                        2   \n",
       "3   ...           2.0                  5                        5   \n",
       "4   ...           2.0                  6                       14   \n",
       "..  ...           ...                ...                      ...   \n",
       "8   ...           3.0                  7                       14   \n",
       "9   ...           3.0                  6                       10   \n",
       "10  ...           3.0                  6                        5   \n",
       "11  ...           4.0                  6                        1   \n",
       "12  ...           3.0                  6                       98   \n",
       "\n",
       "    number_of_days_with_ltng             location  rel_hum  mslp  \\\n",
       "0                          0  alabatquez1999-2010      NaN   NaN   \n",
       "1                          0  alabatquez1999-2010      NaN   NaN   \n",
       "2                          1  alabatquez1999-2010      NaN   NaN   \n",
       "3                          3  alabatquez1999-2010      NaN   NaN   \n",
       "4                         12  alabatquez1999-2010      NaN   NaN   \n",
       "..                       ...                  ...      ...   ...   \n",
       "8                         13   anayrizal1999-2012      NaN   NaN   \n",
       "9                         13   anayrizal1999-2012      NaN   NaN   \n",
       "10                         7   anayrizal1999-2012      NaN   NaN   \n",
       "11                         1   anayrizal1999-2012      NaN   NaN   \n",
       "12                        98   anayrizal1999-2012      NaN   NaN   \n",
       "\n",
       "   vapor_pressure      wind_spd  \n",
       "0             NaN NaN       NaN  \n",
       "1             NaN NaN       NaN  \n",
       "2             NaN NaN       NaN  \n",
       "3             NaN NaN       NaN  \n",
       "4             NaN NaN       NaN  \n",
       "..            ...  ..       ...  \n",
       "8             NaN NaN       NaN  \n",
       "9             NaN NaN       NaN  \n",
       "10            NaN NaN       NaN  \n",
       "11            NaN NaN       NaN  \n",
       "12            NaN NaN       NaN  \n",
       "\n",
       "[715 rows x 23 columns]"
      ]
     },
     "execution_count": 98,
     "metadata": {},
     "output_type": "execute_result"
    }
   ],
   "source": [
    "dfFinal"
   ]
  },
  {
   "cell_type": "code",
   "execution_count": 99,
   "metadata": {
    "ExecuteTime": {
     "end_time": "2020-10-17T14:47:46.877861Z",
     "start_time": "2020-10-17T14:47:46.844621Z"
    }
   },
   "outputs": [],
   "source": [
    "def pickleOut(obj, fname):\n",
    "    fout =  open(fname, 'wb')\n",
    "    pickle.dump(obj, fout)\n",
    "    fout.close()"
   ]
  },
  {
   "cell_type": "code",
   "execution_count": 96,
   "metadata": {
    "ExecuteTime": {
     "end_time": "2020-10-17T14:38:41.404286Z",
     "start_time": "2020-10-17T14:38:41.401583Z"
    }
   },
   "outputs": [],
   "source": [
    "pickleOut(dfFinal, 'dfprecip.pkl')"
   ]
  },
  {
   "cell_type": "code",
   "execution_count": 101,
   "metadata": {
    "ExecuteTime": {
     "end_time": "2020-10-17T15:17:59.163393Z",
     "start_time": "2020-10-17T15:17:59.133818Z"
    }
   },
   "outputs": [
    {
     "data": {
      "text/html": [
       "<div>\n",
       "<style scoped>\n",
       "    .dataframe tbody tr th:only-of-type {\n",
       "        vertical-align: middle;\n",
       "    }\n",
       "\n",
       "    .dataframe tbody tr th {\n",
       "        vertical-align: top;\n",
       "    }\n",
       "\n",
       "    .dataframe thead th {\n",
       "        text-align: right;\n",
       "    }\n",
       "</style>\n",
       "<table border=\"1\" class=\"dataframe\">\n",
       "  <thead>\n",
       "    <tr style=\"text-align: right;\">\n",
       "      <th></th>\n",
       "      <th>month</th>\n",
       "      <th>rainfall_amount</th>\n",
       "      <th>rainfall_number_of_rd</th>\n",
       "      <th>temp_max</th>\n",
       "      <th>temp_min</th>\n",
       "      <th>temp_mean</th>\n",
       "      <th>temp_dry_bulb</th>\n",
       "      <th>temp_wet_bulb</th>\n",
       "      <th>temp_dew_pt</th>\n",
       "      <th>vapor_pressure_mbs</th>\n",
       "      <th>...</th>\n",
       "      <th>wind_spd_mps</th>\n",
       "      <th>cloud_amount_okta</th>\n",
       "      <th>number_of_days_with_tstm</th>\n",
       "      <th>number_of_days_with_ltng</th>\n",
       "      <th>location</th>\n",
       "      <th>rel_hum</th>\n",
       "      <th>mslp</th>\n",
       "      <th>vapor_pressure</th>\n",
       "      <th></th>\n",
       "      <th>wind_spd</th>\n",
       "    </tr>\n",
       "  </thead>\n",
       "  <tbody>\n",
       "    <tr>\n",
       "      <th>0</th>\n",
       "      <td>January</td>\n",
       "      <td>250.2</td>\n",
       "      <td>21</td>\n",
       "      <td>28.3</td>\n",
       "      <td>21.9</td>\n",
       "      <td>25.1</td>\n",
       "      <td>25.5</td>\n",
       "      <td>23.6</td>\n",
       "      <td>22.9</td>\n",
       "      <td>27.8</td>\n",
       "      <td>...</td>\n",
       "      <td>4.0</td>\n",
       "      <td>7</td>\n",
       "      <td>0</td>\n",
       "      <td>0</td>\n",
       "      <td>alabatquez1999-2010</td>\n",
       "      <td>NaN</td>\n",
       "      <td>NaN</td>\n",
       "      <td>NaN</td>\n",
       "      <td>NaN</td>\n",
       "      <td>NaN</td>\n",
       "    </tr>\n",
       "    <tr>\n",
       "      <th>1</th>\n",
       "      <td>February</td>\n",
       "      <td>151.8</td>\n",
       "      <td>14</td>\n",
       "      <td>28.9</td>\n",
       "      <td>21.9</td>\n",
       "      <td>25.4</td>\n",
       "      <td>25.8</td>\n",
       "      <td>23.8</td>\n",
       "      <td>23.0</td>\n",
       "      <td>28.1</td>\n",
       "      <td>...</td>\n",
       "      <td>3.0</td>\n",
       "      <td>6</td>\n",
       "      <td>0</td>\n",
       "      <td>0</td>\n",
       "      <td>alabatquez1999-2010</td>\n",
       "      <td>NaN</td>\n",
       "      <td>NaN</td>\n",
       "      <td>NaN</td>\n",
       "      <td>NaN</td>\n",
       "      <td>NaN</td>\n",
       "    </tr>\n",
       "    <tr>\n",
       "      <th>2</th>\n",
       "      <td>March</td>\n",
       "      <td>127.4</td>\n",
       "      <td>11</td>\n",
       "      <td>30.2</td>\n",
       "      <td>22.6</td>\n",
       "      <td>26.4</td>\n",
       "      <td>26.7</td>\n",
       "      <td>24.5</td>\n",
       "      <td>23.7</td>\n",
       "      <td>29.2</td>\n",
       "      <td>...</td>\n",
       "      <td>3.0</td>\n",
       "      <td>5</td>\n",
       "      <td>2</td>\n",
       "      <td>1</td>\n",
       "      <td>alabatquez1999-2010</td>\n",
       "      <td>NaN</td>\n",
       "      <td>NaN</td>\n",
       "      <td>NaN</td>\n",
       "      <td>NaN</td>\n",
       "      <td>NaN</td>\n",
       "    </tr>\n",
       "    <tr>\n",
       "      <th>3</th>\n",
       "      <td>April</td>\n",
       "      <td>91.9</td>\n",
       "      <td>9</td>\n",
       "      <td>31.8</td>\n",
       "      <td>23.4</td>\n",
       "      <td>27.6</td>\n",
       "      <td>28.0</td>\n",
       "      <td>25.4</td>\n",
       "      <td>24.5</td>\n",
       "      <td>30.6</td>\n",
       "      <td>...</td>\n",
       "      <td>2.0</td>\n",
       "      <td>5</td>\n",
       "      <td>5</td>\n",
       "      <td>3</td>\n",
       "      <td>alabatquez1999-2010</td>\n",
       "      <td>NaN</td>\n",
       "      <td>NaN</td>\n",
       "      <td>NaN</td>\n",
       "      <td>NaN</td>\n",
       "      <td>NaN</td>\n",
       "    </tr>\n",
       "    <tr>\n",
       "      <th>4</th>\n",
       "      <td>May</td>\n",
       "      <td>114.1</td>\n",
       "      <td>11</td>\n",
       "      <td>32.8</td>\n",
       "      <td>23.8</td>\n",
       "      <td>28.3</td>\n",
       "      <td>28.7</td>\n",
       "      <td>26.0</td>\n",
       "      <td>25.1</td>\n",
       "      <td>31.7</td>\n",
       "      <td>...</td>\n",
       "      <td>2.0</td>\n",
       "      <td>6</td>\n",
       "      <td>14</td>\n",
       "      <td>12</td>\n",
       "      <td>alabatquez1999-2010</td>\n",
       "      <td>NaN</td>\n",
       "      <td>NaN</td>\n",
       "      <td>NaN</td>\n",
       "      <td>NaN</td>\n",
       "      <td>NaN</td>\n",
       "    </tr>\n",
       "    <tr>\n",
       "      <th>...</th>\n",
       "      <td>...</td>\n",
       "      <td>...</td>\n",
       "      <td>...</td>\n",
       "      <td>...</td>\n",
       "      <td>...</td>\n",
       "      <td>...</td>\n",
       "      <td>...</td>\n",
       "      <td>...</td>\n",
       "      <td>...</td>\n",
       "      <td>...</td>\n",
       "      <td>...</td>\n",
       "      <td>...</td>\n",
       "      <td>...</td>\n",
       "      <td>...</td>\n",
       "      <td>...</td>\n",
       "      <td>...</td>\n",
       "      <td>...</td>\n",
       "      <td>...</td>\n",
       "      <td>...</td>\n",
       "      <td>...</td>\n",
       "      <td>...</td>\n",
       "    </tr>\n",
       "    <tr>\n",
       "      <th>8</th>\n",
       "      <td>September</td>\n",
       "      <td>482.8</td>\n",
       "      <td>21</td>\n",
       "      <td>26.2</td>\n",
       "      <td>20.4</td>\n",
       "      <td>23.3</td>\n",
       "      <td>23.0</td>\n",
       "      <td>22.1</td>\n",
       "      <td>21.8</td>\n",
       "      <td>26.1</td>\n",
       "      <td>...</td>\n",
       "      <td>3.0</td>\n",
       "      <td>7</td>\n",
       "      <td>14</td>\n",
       "      <td>13</td>\n",
       "      <td>anayrizal1999-2012</td>\n",
       "      <td>NaN</td>\n",
       "      <td>NaN</td>\n",
       "      <td>NaN</td>\n",
       "      <td>NaN</td>\n",
       "      <td>NaN</td>\n",
       "    </tr>\n",
       "    <tr>\n",
       "      <th>9</th>\n",
       "      <td>October</td>\n",
       "      <td>276.5</td>\n",
       "      <td>18</td>\n",
       "      <td>26.2</td>\n",
       "      <td>20.4</td>\n",
       "      <td>23.3</td>\n",
       "      <td>22.9</td>\n",
       "      <td>21.8</td>\n",
       "      <td>21.4</td>\n",
       "      <td>25.4</td>\n",
       "      <td>...</td>\n",
       "      <td>3.0</td>\n",
       "      <td>6</td>\n",
       "      <td>10</td>\n",
       "      <td>13</td>\n",
       "      <td>anayrizal1999-2012</td>\n",
       "      <td>NaN</td>\n",
       "      <td>NaN</td>\n",
       "      <td>NaN</td>\n",
       "      <td>NaN</td>\n",
       "      <td>NaN</td>\n",
       "    </tr>\n",
       "    <tr>\n",
       "      <th>10</th>\n",
       "      <td>November</td>\n",
       "      <td>264.8</td>\n",
       "      <td>18</td>\n",
       "      <td>25.6</td>\n",
       "      <td>19.9</td>\n",
       "      <td>22.8</td>\n",
       "      <td>22.4</td>\n",
       "      <td>21.3</td>\n",
       "      <td>20.8</td>\n",
       "      <td>24.7</td>\n",
       "      <td>...</td>\n",
       "      <td>3.0</td>\n",
       "      <td>6</td>\n",
       "      <td>5</td>\n",
       "      <td>7</td>\n",
       "      <td>anayrizal1999-2012</td>\n",
       "      <td>NaN</td>\n",
       "      <td>NaN</td>\n",
       "      <td>NaN</td>\n",
       "      <td>NaN</td>\n",
       "      <td>NaN</td>\n",
       "    </tr>\n",
       "    <tr>\n",
       "      <th>11</th>\n",
       "      <td>December</td>\n",
       "      <td>202.3</td>\n",
       "      <td>16</td>\n",
       "      <td>24.3</td>\n",
       "      <td>19.1</td>\n",
       "      <td>21.7</td>\n",
       "      <td>21.5</td>\n",
       "      <td>20.4</td>\n",
       "      <td>19.9</td>\n",
       "      <td>23.3</td>\n",
       "      <td>...</td>\n",
       "      <td>4.0</td>\n",
       "      <td>6</td>\n",
       "      <td>1</td>\n",
       "      <td>1</td>\n",
       "      <td>anayrizal1999-2012</td>\n",
       "      <td>NaN</td>\n",
       "      <td>NaN</td>\n",
       "      <td>NaN</td>\n",
       "      <td>NaN</td>\n",
       "      <td>NaN</td>\n",
       "    </tr>\n",
       "    <tr>\n",
       "      <th>12</th>\n",
       "      <td>Annual</td>\n",
       "      <td>2931.9</td>\n",
       "      <td>183</td>\n",
       "      <td>26.2</td>\n",
       "      <td>20.0</td>\n",
       "      <td>23.1</td>\n",
       "      <td>22.7</td>\n",
       "      <td>21.4</td>\n",
       "      <td>20.9</td>\n",
       "      <td>24.9</td>\n",
       "      <td>...</td>\n",
       "      <td>3.0</td>\n",
       "      <td>6</td>\n",
       "      <td>98</td>\n",
       "      <td>98</td>\n",
       "      <td>anayrizal1999-2012</td>\n",
       "      <td>NaN</td>\n",
       "      <td>NaN</td>\n",
       "      <td>NaN</td>\n",
       "      <td>NaN</td>\n",
       "      <td>NaN</td>\n",
       "    </tr>\n",
       "  </tbody>\n",
       "</table>\n",
       "<p>715 rows × 23 columns</p>\n",
       "</div>"
      ],
      "text/plain": [
       "        month  rainfall_amount  rainfall_number_of_rd  temp_max  temp_min  \\\n",
       "0     January            250.2                     21      28.3      21.9   \n",
       "1    February            151.8                     14      28.9      21.9   \n",
       "2       March            127.4                     11      30.2      22.6   \n",
       "3       April             91.9                      9      31.8      23.4   \n",
       "4         May            114.1                     11      32.8      23.8   \n",
       "..        ...              ...                    ...       ...       ...   \n",
       "8   September            482.8                     21      26.2      20.4   \n",
       "9     October            276.5                     18      26.2      20.4   \n",
       "10   November            264.8                     18      25.6      19.9   \n",
       "11   December            202.3                     16      24.3      19.1   \n",
       "12     Annual           2931.9                    183      26.2      20.0   \n",
       "\n",
       "    temp_mean  temp_dry_bulb  temp_wet_bulb  temp_dew_pt  vapor_pressure_mbs  \\\n",
       "0        25.1           25.5           23.6         22.9                27.8   \n",
       "1        25.4           25.8           23.8         23.0                28.1   \n",
       "2        26.4           26.7           24.5         23.7                29.2   \n",
       "3        27.6           28.0           25.4         24.5                30.6   \n",
       "4        28.3           28.7           26.0         25.1                31.7   \n",
       "..        ...            ...            ...          ...                 ...   \n",
       "8        23.3           23.0           22.1         21.8                26.1   \n",
       "9        23.3           22.9           21.8         21.4                25.4   \n",
       "10       22.8           22.4           21.3         20.8                24.7   \n",
       "11       21.7           21.5           20.4         19.9                23.3   \n",
       "12       23.1           22.7           21.4         20.9                24.9   \n",
       "\n",
       "    ...  wind_spd_mps  cloud_amount_okta number_of_days_with_tstm  \\\n",
       "0   ...           4.0                  7                        0   \n",
       "1   ...           3.0                  6                        0   \n",
       "2   ...           3.0                  5                        2   \n",
       "3   ...           2.0                  5                        5   \n",
       "4   ...           2.0                  6                       14   \n",
       "..  ...           ...                ...                      ...   \n",
       "8   ...           3.0                  7                       14   \n",
       "9   ...           3.0                  6                       10   \n",
       "10  ...           3.0                  6                        5   \n",
       "11  ...           4.0                  6                        1   \n",
       "12  ...           3.0                  6                       98   \n",
       "\n",
       "    number_of_days_with_ltng             location  rel_hum  mslp  \\\n",
       "0                          0  alabatquez1999-2010      NaN   NaN   \n",
       "1                          0  alabatquez1999-2010      NaN   NaN   \n",
       "2                          1  alabatquez1999-2010      NaN   NaN   \n",
       "3                          3  alabatquez1999-2010      NaN   NaN   \n",
       "4                         12  alabatquez1999-2010      NaN   NaN   \n",
       "..                       ...                  ...      ...   ...   \n",
       "8                         13   anayrizal1999-2012      NaN   NaN   \n",
       "9                         13   anayrizal1999-2012      NaN   NaN   \n",
       "10                         7   anayrizal1999-2012      NaN   NaN   \n",
       "11                         1   anayrizal1999-2012      NaN   NaN   \n",
       "12                        98   anayrizal1999-2012      NaN   NaN   \n",
       "\n",
       "   vapor_pressure      wind_spd  \n",
       "0             NaN NaN       NaN  \n",
       "1             NaN NaN       NaN  \n",
       "2             NaN NaN       NaN  \n",
       "3             NaN NaN       NaN  \n",
       "4             NaN NaN       NaN  \n",
       "..            ...  ..       ...  \n",
       "8             NaN NaN       NaN  \n",
       "9             NaN NaN       NaN  \n",
       "10            NaN NaN       NaN  \n",
       "11            NaN NaN       NaN  \n",
       "12            NaN NaN       NaN  \n",
       "\n",
       "[715 rows x 23 columns]"
      ]
     },
     "execution_count": 101,
     "metadata": {},
     "output_type": "execute_result"
    }
   ],
   "source": [
    "dfFinal.head(1000)"
   ]
  },
  {
   "cell_type": "code",
   "execution_count": 105,
   "metadata": {
    "ExecuteTime": {
     "end_time": "2020-10-17T15:26:50.684027Z",
     "start_time": "2020-10-17T15:26:50.307175Z"
    }
   },
   "outputs": [],
   "source": [
    "import qgrid"
   ]
  },
  {
   "cell_type": "code",
   "execution_count": 106,
   "metadata": {
    "ExecuteTime": {
     "end_time": "2020-10-17T15:27:08.470231Z",
     "start_time": "2020-10-17T15:27:08.427122Z"
    }
   },
   "outputs": [
    {
     "data": {
      "application/vnd.jupyter.widget-view+json": {
       "model_id": "01698f365e6945b38d88f227dac4b1c1",
       "version_major": 2,
       "version_minor": 0
      },
      "text/plain": [
       "QgridWidget(grid_options={'fullWidthRows': True, 'syncColumnCellResize': True, 'forceFitColumns': True, 'defau…"
      ]
     },
     "metadata": {},
     "output_type": "display_data"
    }
   ],
   "source": [
    "qgrid.show_grid(dfFinal, show_toolbar=True)"
   ]
  },
  {
   "cell_type": "code",
   "execution_count": null,
   "metadata": {},
   "outputs": [],
   "source": []
  }
 ],
 "metadata": {
  "kernelspec": {
   "display_name": "Python 3",
   "language": "python",
   "name": "python3"
  },
  "language_info": {
   "codemirror_mode": {
    "name": "ipython",
    "version": 3
   },
   "file_extension": ".py",
   "mimetype": "text/x-python",
   "name": "python",
   "nbconvert_exporter": "python",
   "pygments_lexer": "ipython3",
   "version": "3.8.2"
  },
  "toc": {
   "base_numbering": 1,
   "nav_menu": {},
   "number_sections": true,
   "sideBar": true,
   "skip_h1_title": false,
   "title_cell": "Table of Contents",
   "title_sidebar": "Contents",
   "toc_cell": false,
   "toc_position": {
    "height": "496.533px",
    "left": "594px",
    "top": "137.8px",
    "width": "274.617px"
   },
   "toc_section_display": true,
   "toc_window_display": true
  }
 },
 "nbformat": 4,
 "nbformat_minor": 4
}
